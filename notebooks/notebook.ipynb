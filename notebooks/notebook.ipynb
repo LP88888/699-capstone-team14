{
 "cells": [
  {
   "cell_type": "markdown",
   "id": "7e182d06",
   "metadata": {},
   "source": [
    "placeholder for repo structure"
   ]
  }
 ],
 "metadata": {
  "language_info": {
   "name": "python"
  }
 },
 "nbformat": 4,
 "nbformat_minor": 5
}
